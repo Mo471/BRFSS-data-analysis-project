{
 "cells": [
  {
   "cell_type": "code",
   "execution_count": 47,
   "id": "2df3712e",
   "metadata": {},
   "outputs": [
    {
     "name": "stderr",
     "output_type": "stream",
     "text": [
      "C:\\ProgramData\\Anaconda3\\lib\\site-packages\\IPython\\core\\interactiveshell.py:3165: DtypeWarning: Columns (183,378) have mixed types.Specify dtype option on import or set low_memory=False.\n",
      "  has_raised = await self.run_ast_nodes(code_ast.body, cell_name,\n"
     ]
    }
   ],
   "source": [
    "# Importing libraries\n",
    "import pandas as pd\n",
    "import numpy as np\n",
    "\n",
    "import time\n",
    "\n",
    "df = pd.read_csv('brfss_for_bda_2021.csv', skipinitialspace = True)"
   ]
  },
  {
   "cell_type": "code",
   "execution_count": 48,
   "id": "4a5164b9",
   "metadata": {},
   "outputs": [],
   "source": [
    "# Dropping useless columns\n",
    "\n",
    "df.drop(df.columns.difference(['SMOKDAY2','MARITAL','GENHLTH', 'SEX', 'AGE']), 1, inplace=True)"
   ]
  },
  {
   "cell_type": "code",
   "execution_count": 49,
   "id": "cfcf68e8",
   "metadata": {},
   "outputs": [
    {
     "data": {
      "text/plain": [
       "Age 65 or older        4031\n",
       "Age 55 - 64            2559\n",
       "Age 45 - 54            2150\n",
       "Age 35 - 44            1471\n",
       "Age 25 - 34            1273\n",
       "Age 18 - 24             657\n",
       "Refused                 186\n",
       "Don't know/Not sure      11\n",
       "Name: AGE, dtype: int64"
      ]
     },
     "execution_count": 49,
     "metadata": {},
     "output_type": "execute_result"
    }
   ],
   "source": [
    "# Breakdown of column AGE\n",
    "df['AGE'].value_counts()"
   ]
  },
  {
   "cell_type": "code",
   "execution_count": 50,
   "id": "bc526f19",
   "metadata": {},
   "outputs": [
    {
     "data": {
      "text/plain": [
       "Age 65 or older    4031\n",
       "Age 55 - 64        2559\n",
       "Age 45 - 54        2150\n",
       "Age 35 - 44        1471\n",
       "Age 25 - 34        1273\n",
       "Age 18 - 24         657\n",
       "Name: AGE, dtype: int64"
      ]
     },
     "execution_count": 50,
     "metadata": {},
     "output_type": "execute_result"
    }
   ],
   "source": [
    "# Cleaning AGE\n",
    "valid_set = set([\"Don't know/Not sure\", \"Refused\"])\n",
    "df.loc[df.AGE.isin(valid_set), 'AGE'] = np.NaN\n",
    "\n",
    "# Check that cleaned properly\n",
    "df['AGE'].value_counts()"
   ]
  },
  {
   "cell_type": "code",
   "execution_count": 51,
   "id": "b91e4dd2",
   "metadata": {},
   "outputs": [
    {
     "data": {
      "text/plain": [
       "Not asked or Missing    7269\n",
       "Not at all              3472\n",
       "Every day               1075\n",
       "Some days                495\n",
       "Refused                   24\n",
       "Don´t Know/Not Sure        3\n",
       "Name: SMOKDAY2, dtype: int64"
      ]
     },
     "execution_count": 51,
     "metadata": {},
     "output_type": "execute_result"
    }
   ],
   "source": [
    "# Breakdown of column SMOKDAY2\n",
    "df['SMOKDAY2'].value_counts()"
   ]
  },
  {
   "cell_type": "code",
   "execution_count": 52,
   "id": "4f5833a3",
   "metadata": {},
   "outputs": [
    {
     "data": {
      "text/plain": [
       "Not at all    3472\n",
       "Every day     1075\n",
       "Some days      495\n",
       "Name: SMOKDAY2, dtype: int64"
      ]
     },
     "execution_count": 52,
     "metadata": {},
     "output_type": "execute_result"
    }
   ],
   "source": [
    "# Cleaning SMOKDAY2\n",
    "valid_set = set([\"Not asked or Missing\", \"Refused\", \"Don´t Know/Not Sure\"])\n",
    "df.loc[df.SMOKDAY2.isin(valid_set), 'SMOKDAY2'] = np.NaN\n",
    "\n",
    "# Check that cleaned properly\n",
    "df['SMOKDAY2'].value_counts()"
   ]
  },
  {
   "cell_type": "code",
   "execution_count": 53,
   "id": "8a29c3b0",
   "metadata": {},
   "outputs": [
    {
     "data": {
      "text/plain": [
       "Married                            5742\n",
       "Never married                      2538\n",
       "Divorced                           1567\n",
       "Widowed                            1505\n",
       "Separated                           424\n",
       "A member of an unmarried couple     408\n",
       "Refused                             154\n",
       "Name: MARITAL, dtype: int64"
      ]
     },
     "execution_count": 53,
     "metadata": {},
     "output_type": "execute_result"
    }
   ],
   "source": [
    "# Breakdown of column MARITAL\n",
    "df['MARITAL'].value_counts()"
   ]
  },
  {
   "cell_type": "code",
   "execution_count": 54,
   "id": "bc7f7b07",
   "metadata": {},
   "outputs": [
    {
     "data": {
      "text/plain": [
       "Married                            5742\n",
       "Never married                      2538\n",
       "Divorced                           1567\n",
       "Widowed                            1505\n",
       "Separated                           424\n",
       "A member of an unmarried couple     408\n",
       "Name: MARITAL, dtype: int64"
      ]
     },
     "execution_count": 54,
     "metadata": {},
     "output_type": "execute_result"
    }
   ],
   "source": [
    "# Cleaning MARITAL\n",
    "valid_set = set([\"Refused\"])\n",
    "df.loc[df.MARITAL.isin(valid_set), 'MARITAL'] = np.NaN\n",
    "\n",
    "# Check that cleaned properly\n",
    "df['MARITAL'].value_counts()"
   ]
  },
  {
   "cell_type": "code",
   "execution_count": 55,
   "id": "2947bb20",
   "metadata": {},
   "outputs": [
    {
     "data": {
      "text/plain": [
       "Very good              4063\n",
       "Good                   3838\n",
       "Excellent              2236\n",
       "Fair                   1536\n",
       "Poor                    600\n",
       "Refused                  46\n",
       "Don't know/Not Sure      19\n",
       "Name: GENHLTH, dtype: int64"
      ]
     },
     "execution_count": 55,
     "metadata": {},
     "output_type": "execute_result"
    }
   ],
   "source": [
    "# Breakdown of column GENHLTH\n",
    "df['GENHLTH'].value_counts()"
   ]
  },
  {
   "cell_type": "code",
   "execution_count": 56,
   "id": "ac047ebb",
   "metadata": {},
   "outputs": [
    {
     "data": {
      "text/plain": [
       "Very good    4063\n",
       "Good         3838\n",
       "Excellent    2236\n",
       "Fair         1536\n",
       "Poor          600\n",
       "Name: GENHLTH, dtype: int64"
      ]
     },
     "execution_count": 56,
     "metadata": {},
     "output_type": "execute_result"
    }
   ],
   "source": [
    "# Cleaning GENHLTH\n",
    "valid_set = set([\"Refused\", \"Don't know/Not Sure\"])\n",
    "df.loc[df.GENHLTH.isin(valid_set), 'GENHLTH'] = np.NaN\n",
    "\n",
    "# Check that cleaned properly\n",
    "df['GENHLTH'].value_counts()"
   ]
  },
  {
   "cell_type": "code",
   "execution_count": 57,
   "id": "ec3b9472",
   "metadata": {},
   "outputs": [
    {
     "data": {
      "text/html": [
       "<div>\n",
       "<style scoped>\n",
       "    .dataframe tbody tr th:only-of-type {\n",
       "        vertical-align: middle;\n",
       "    }\n",
       "\n",
       "    .dataframe tbody tr th {\n",
       "        vertical-align: top;\n",
       "    }\n",
       "\n",
       "    .dataframe thead th {\n",
       "        text-align: right;\n",
       "    }\n",
       "</style>\n",
       "<table border=\"1\" class=\"dataframe\">\n",
       "  <thead>\n",
       "    <tr style=\"text-align: right;\">\n",
       "      <th></th>\n",
       "      <th>GENHLTH</th>\n",
       "      <th>SEX</th>\n",
       "      <th>AGE</th>\n",
       "      <th>MARITAL</th>\n",
       "      <th>SMOKDAY2</th>\n",
       "    </tr>\n",
       "  </thead>\n",
       "  <tbody>\n",
       "    <tr>\n",
       "      <th>1</th>\n",
       "      <td>Good</td>\n",
       "      <td>Female</td>\n",
       "      <td>Age 45 - 54</td>\n",
       "      <td>Separated</td>\n",
       "      <td>NaN</td>\n",
       "    </tr>\n",
       "    <tr>\n",
       "      <th>5</th>\n",
       "      <td>Good</td>\n",
       "      <td>Female</td>\n",
       "      <td>Age 35 - 44</td>\n",
       "      <td>Never married</td>\n",
       "      <td>Some days</td>\n",
       "    </tr>\n",
       "    <tr>\n",
       "      <th>7</th>\n",
       "      <td>Very good</td>\n",
       "      <td>Male</td>\n",
       "      <td>Age 35 - 44</td>\n",
       "      <td>Divorced</td>\n",
       "      <td>Some days</td>\n",
       "    </tr>\n",
       "    <tr>\n",
       "      <th>8</th>\n",
       "      <td>Good</td>\n",
       "      <td>Male</td>\n",
       "      <td>Age 35 - 44</td>\n",
       "      <td>Married</td>\n",
       "      <td>NaN</td>\n",
       "    </tr>\n",
       "    <tr>\n",
       "      <th>14</th>\n",
       "      <td>Excellent</td>\n",
       "      <td>Male</td>\n",
       "      <td>Age 35 - 44</td>\n",
       "      <td>Married</td>\n",
       "      <td>NaN</td>\n",
       "    </tr>\n",
       "    <tr>\n",
       "      <th>...</th>\n",
       "      <td>...</td>\n",
       "      <td>...</td>\n",
       "      <td>...</td>\n",
       "      <td>...</td>\n",
       "      <td>...</td>\n",
       "    </tr>\n",
       "    <tr>\n",
       "      <th>12319</th>\n",
       "      <td>Excellent</td>\n",
       "      <td>Female</td>\n",
       "      <td>Age 35 - 44</td>\n",
       "      <td>Married</td>\n",
       "      <td>NaN</td>\n",
       "    </tr>\n",
       "    <tr>\n",
       "      <th>12321</th>\n",
       "      <td>Good</td>\n",
       "      <td>Male</td>\n",
       "      <td>Age 35 - 44</td>\n",
       "      <td>Married</td>\n",
       "      <td>Not at all</td>\n",
       "    </tr>\n",
       "    <tr>\n",
       "      <th>12326</th>\n",
       "      <td>Good</td>\n",
       "      <td>Male</td>\n",
       "      <td>Age 35 - 44</td>\n",
       "      <td>NaN</td>\n",
       "      <td>NaN</td>\n",
       "    </tr>\n",
       "    <tr>\n",
       "      <th>12330</th>\n",
       "      <td>Excellent</td>\n",
       "      <td>Male</td>\n",
       "      <td>Age 35 - 44</td>\n",
       "      <td>Married</td>\n",
       "      <td>Not at all</td>\n",
       "    </tr>\n",
       "    <tr>\n",
       "      <th>12332</th>\n",
       "      <td>Excellent</td>\n",
       "      <td>Female</td>\n",
       "      <td>Age 35 - 44</td>\n",
       "      <td>A member of an unmarried couple</td>\n",
       "      <td>NaN</td>\n",
       "    </tr>\n",
       "  </tbody>\n",
       "</table>\n",
       "<p>3621 rows × 5 columns</p>\n",
       "</div>"
      ],
      "text/plain": [
       "         GENHLTH     SEX          AGE                          MARITAL  \\\n",
       "1           Good  Female  Age 45 - 54                        Separated   \n",
       "5           Good  Female  Age 35 - 44                    Never married   \n",
       "7      Very good    Male  Age 35 - 44                         Divorced   \n",
       "8           Good    Male  Age 35 - 44                          Married   \n",
       "14     Excellent    Male  Age 35 - 44                          Married   \n",
       "...          ...     ...          ...                              ...   \n",
       "12319  Excellent  Female  Age 35 - 44                          Married   \n",
       "12321       Good    Male  Age 35 - 44                          Married   \n",
       "12326       Good    Male  Age 35 - 44                              NaN   \n",
       "12330  Excellent    Male  Age 35 - 44                          Married   \n",
       "12332  Excellent  Female  Age 35 - 44  A member of an unmarried couple   \n",
       "\n",
       "         SMOKDAY2  \n",
       "1             NaN  \n",
       "5       Some days  \n",
       "7       Some days  \n",
       "8             NaN  \n",
       "14            NaN  \n",
       "...           ...  \n",
       "12319         NaN  \n",
       "12321  Not at all  \n",
       "12326         NaN  \n",
       "12330  Not at all  \n",
       "12332         NaN  \n",
       "\n",
       "[3621 rows x 5 columns]"
      ]
     },
     "execution_count": 57,
     "metadata": {},
     "output_type": "execute_result"
    }
   ],
   "source": [
    "# Filter and delete by age\n",
    "df = df.loc[df['AGE'].isin(['Age 45 - 54', 'Age 35 - 44'])]\n",
    "\n",
    "df"
   ]
  },
  {
   "cell_type": "code",
   "execution_count": 58,
   "id": "d4418073",
   "metadata": {},
   "outputs": [
    {
     "data": {
      "text/html": [
       "<div>\n",
       "<style scoped>\n",
       "    .dataframe tbody tr th:only-of-type {\n",
       "        vertical-align: middle;\n",
       "    }\n",
       "\n",
       "    .dataframe tbody tr th {\n",
       "        vertical-align: top;\n",
       "    }\n",
       "\n",
       "    .dataframe thead th {\n",
       "        text-align: right;\n",
       "    }\n",
       "</style>\n",
       "<table border=\"1\" class=\"dataframe\">\n",
       "  <thead>\n",
       "    <tr style=\"text-align: right;\">\n",
       "      <th></th>\n",
       "      <th>GENHLTH</th>\n",
       "      <th>SEX</th>\n",
       "      <th>AGE</th>\n",
       "      <th>MARITAL</th>\n",
       "      <th>SMOKDAY2</th>\n",
       "    </tr>\n",
       "  </thead>\n",
       "  <tbody>\n",
       "    <tr>\n",
       "      <th>7</th>\n",
       "      <td>Very good</td>\n",
       "      <td>Male</td>\n",
       "      <td>Age 35 - 44</td>\n",
       "      <td>Divorced</td>\n",
       "      <td>Some days</td>\n",
       "    </tr>\n",
       "    <tr>\n",
       "      <th>8</th>\n",
       "      <td>Good</td>\n",
       "      <td>Male</td>\n",
       "      <td>Age 35 - 44</td>\n",
       "      <td>Married</td>\n",
       "      <td>NaN</td>\n",
       "    </tr>\n",
       "    <tr>\n",
       "      <th>14</th>\n",
       "      <td>Excellent</td>\n",
       "      <td>Male</td>\n",
       "      <td>Age 35 - 44</td>\n",
       "      <td>Married</td>\n",
       "      <td>NaN</td>\n",
       "    </tr>\n",
       "    <tr>\n",
       "      <th>31</th>\n",
       "      <td>Very good</td>\n",
       "      <td>Male</td>\n",
       "      <td>Age 35 - 44</td>\n",
       "      <td>A member of an unmarried couple</td>\n",
       "      <td>Not at all</td>\n",
       "    </tr>\n",
       "    <tr>\n",
       "      <th>37</th>\n",
       "      <td>Very good</td>\n",
       "      <td>Male</td>\n",
       "      <td>Age 35 - 44</td>\n",
       "      <td>Married</td>\n",
       "      <td>NaN</td>\n",
       "    </tr>\n",
       "    <tr>\n",
       "      <th>...</th>\n",
       "      <td>...</td>\n",
       "      <td>...</td>\n",
       "      <td>...</td>\n",
       "      <td>...</td>\n",
       "      <td>...</td>\n",
       "    </tr>\n",
       "    <tr>\n",
       "      <th>12309</th>\n",
       "      <td>Very good</td>\n",
       "      <td>Male</td>\n",
       "      <td>Age 35 - 44</td>\n",
       "      <td>Divorced</td>\n",
       "      <td>NaN</td>\n",
       "    </tr>\n",
       "    <tr>\n",
       "      <th>12315</th>\n",
       "      <td>Fair</td>\n",
       "      <td>Male</td>\n",
       "      <td>Age 35 - 44</td>\n",
       "      <td>Married</td>\n",
       "      <td>NaN</td>\n",
       "    </tr>\n",
       "    <tr>\n",
       "      <th>12321</th>\n",
       "      <td>Good</td>\n",
       "      <td>Male</td>\n",
       "      <td>Age 35 - 44</td>\n",
       "      <td>Married</td>\n",
       "      <td>Not at all</td>\n",
       "    </tr>\n",
       "    <tr>\n",
       "      <th>12326</th>\n",
       "      <td>Good</td>\n",
       "      <td>Male</td>\n",
       "      <td>Age 35 - 44</td>\n",
       "      <td>NaN</td>\n",
       "      <td>NaN</td>\n",
       "    </tr>\n",
       "    <tr>\n",
       "      <th>12330</th>\n",
       "      <td>Excellent</td>\n",
       "      <td>Male</td>\n",
       "      <td>Age 35 - 44</td>\n",
       "      <td>Married</td>\n",
       "      <td>Not at all</td>\n",
       "    </tr>\n",
       "  </tbody>\n",
       "</table>\n",
       "<p>1501 rows × 5 columns</p>\n",
       "</div>"
      ],
      "text/plain": [
       "         GENHLTH   SEX          AGE                          MARITAL  \\\n",
       "7      Very good  Male  Age 35 - 44                         Divorced   \n",
       "8           Good  Male  Age 35 - 44                          Married   \n",
       "14     Excellent  Male  Age 35 - 44                          Married   \n",
       "31     Very good  Male  Age 35 - 44  A member of an unmarried couple   \n",
       "37     Very good  Male  Age 35 - 44                          Married   \n",
       "...          ...   ...          ...                              ...   \n",
       "12309  Very good  Male  Age 35 - 44                         Divorced   \n",
       "12315       Fair  Male  Age 35 - 44                          Married   \n",
       "12321       Good  Male  Age 35 - 44                          Married   \n",
       "12326       Good  Male  Age 35 - 44                              NaN   \n",
       "12330  Excellent  Male  Age 35 - 44                          Married   \n",
       "\n",
       "         SMOKDAY2  \n",
       "7       Some days  \n",
       "8             NaN  \n",
       "14            NaN  \n",
       "31     Not at all  \n",
       "37            NaN  \n",
       "...           ...  \n",
       "12309         NaN  \n",
       "12315         NaN  \n",
       "12321  Not at all  \n",
       "12326         NaN  \n",
       "12330  Not at all  \n",
       "\n",
       "[1501 rows x 5 columns]"
      ]
     },
     "execution_count": 58,
     "metadata": {},
     "output_type": "execute_result"
    }
   ],
   "source": [
    "# Filter and delete by sex\n",
    "df = df.loc[df['SEX'].isin(['Male'])]\n",
    "\n",
    "df"
   ]
  },
  {
   "cell_type": "code",
   "execution_count": 59,
   "id": "546aadfc",
   "metadata": {},
   "outputs": [
    {
     "name": "stderr",
     "output_type": "stream",
     "text": [
      "C:\\ProgramData\\Anaconda3\\lib\\site-packages\\pandas\\core\\frame.py:4308: SettingWithCopyWarning: \n",
      "A value is trying to be set on a copy of a slice from a DataFrame\n",
      "\n",
      "See the caveats in the documentation: https://pandas.pydata.org/pandas-docs/stable/user_guide/indexing.html#returning-a-view-versus-a-copy\n",
      "  return super().drop(\n"
     ]
    },
    {
     "data": {
      "text/html": [
       "<div>\n",
       "<style scoped>\n",
       "    .dataframe tbody tr th:only-of-type {\n",
       "        vertical-align: middle;\n",
       "    }\n",
       "\n",
       "    .dataframe tbody tr th {\n",
       "        vertical-align: top;\n",
       "    }\n",
       "\n",
       "    .dataframe thead th {\n",
       "        text-align: right;\n",
       "    }\n",
       "</style>\n",
       "<table border=\"1\" class=\"dataframe\">\n",
       "  <thead>\n",
       "    <tr style=\"text-align: right;\">\n",
       "      <th></th>\n",
       "      <th>GENHLTH</th>\n",
       "      <th>MARITAL</th>\n",
       "      <th>SMOKDAY2</th>\n",
       "    </tr>\n",
       "  </thead>\n",
       "  <tbody>\n",
       "    <tr>\n",
       "      <th>7</th>\n",
       "      <td>Very good</td>\n",
       "      <td>Divorced</td>\n",
       "      <td>Some days</td>\n",
       "    </tr>\n",
       "    <tr>\n",
       "      <th>8</th>\n",
       "      <td>Good</td>\n",
       "      <td>Married</td>\n",
       "      <td>NaN</td>\n",
       "    </tr>\n",
       "    <tr>\n",
       "      <th>14</th>\n",
       "      <td>Excellent</td>\n",
       "      <td>Married</td>\n",
       "      <td>NaN</td>\n",
       "    </tr>\n",
       "    <tr>\n",
       "      <th>31</th>\n",
       "      <td>Very good</td>\n",
       "      <td>A member of an unmarried couple</td>\n",
       "      <td>Not at all</td>\n",
       "    </tr>\n",
       "    <tr>\n",
       "      <th>37</th>\n",
       "      <td>Very good</td>\n",
       "      <td>Married</td>\n",
       "      <td>NaN</td>\n",
       "    </tr>\n",
       "    <tr>\n",
       "      <th>...</th>\n",
       "      <td>...</td>\n",
       "      <td>...</td>\n",
       "      <td>...</td>\n",
       "    </tr>\n",
       "    <tr>\n",
       "      <th>12309</th>\n",
       "      <td>Very good</td>\n",
       "      <td>Divorced</td>\n",
       "      <td>NaN</td>\n",
       "    </tr>\n",
       "    <tr>\n",
       "      <th>12315</th>\n",
       "      <td>Fair</td>\n",
       "      <td>Married</td>\n",
       "      <td>NaN</td>\n",
       "    </tr>\n",
       "    <tr>\n",
       "      <th>12321</th>\n",
       "      <td>Good</td>\n",
       "      <td>Married</td>\n",
       "      <td>Not at all</td>\n",
       "    </tr>\n",
       "    <tr>\n",
       "      <th>12326</th>\n",
       "      <td>Good</td>\n",
       "      <td>NaN</td>\n",
       "      <td>NaN</td>\n",
       "    </tr>\n",
       "    <tr>\n",
       "      <th>12330</th>\n",
       "      <td>Excellent</td>\n",
       "      <td>Married</td>\n",
       "      <td>Not at all</td>\n",
       "    </tr>\n",
       "  </tbody>\n",
       "</table>\n",
       "<p>1501 rows × 3 columns</p>\n",
       "</div>"
      ],
      "text/plain": [
       "         GENHLTH                          MARITAL    SMOKDAY2\n",
       "7      Very good                         Divorced   Some days\n",
       "8           Good                          Married         NaN\n",
       "14     Excellent                          Married         NaN\n",
       "31     Very good  A member of an unmarried couple  Not at all\n",
       "37     Very good                          Married         NaN\n",
       "...          ...                              ...         ...\n",
       "12309  Very good                         Divorced         NaN\n",
       "12315       Fair                          Married         NaN\n",
       "12321       Good                          Married  Not at all\n",
       "12326       Good                              NaN         NaN\n",
       "12330  Excellent                          Married  Not at all\n",
       "\n",
       "[1501 rows x 3 columns]"
      ]
     },
     "execution_count": 59,
     "metadata": {},
     "output_type": "execute_result"
    }
   ],
   "source": [
    "# Removing filtering values\n",
    "\n",
    "df.drop(['SEX'], axis=1, inplace=True)\n",
    "df.drop(['AGE'], axis=1, inplace=True)\n",
    "\n",
    "df"
   ]
  },
  {
   "cell_type": "code",
   "execution_count": 60,
   "id": "452e3e30",
   "metadata": {},
   "outputs": [
    {
     "data": {
      "text/plain": [
       "GENHLTH       9\n",
       "MARITAL      20\n",
       "SMOKDAY2    910\n",
       "dtype: int64"
      ]
     },
     "execution_count": 60,
     "metadata": {},
     "output_type": "execute_result"
    }
   ],
   "source": [
    "# Counting null cells\n",
    "\n",
    "df.isnull().sum()"
   ]
  },
  {
   "cell_type": "code",
   "execution_count": 61,
   "id": "b0c320fe",
   "metadata": {},
   "outputs": [
    {
     "name": "stderr",
     "output_type": "stream",
     "text": [
      "<ipython-input-61-492ba375e115>:1: SettingWithCopyWarning: \n",
      "A value is trying to be set on a copy of a slice from a DataFrame\n",
      "\n",
      "See the caveats in the documentation: https://pandas.pydata.org/pandas-docs/stable/user_guide/indexing.html#returning-a-view-versus-a-copy\n",
      "  df.dropna(inplace = True)\n"
     ]
    },
    {
     "data": {
      "text/plain": [
       "GENHLTH     0\n",
       "MARITAL     0\n",
       "SMOKDAY2    0\n",
       "dtype: int64"
      ]
     },
     "execution_count": 61,
     "metadata": {},
     "output_type": "execute_result"
    }
   ],
   "source": [
    "df.dropna(inplace = True)\n",
    "\n",
    "df.isnull().sum()"
   ]
  },
  {
   "cell_type": "code",
   "execution_count": 62,
   "id": "f709955d",
   "metadata": {},
   "outputs": [
    {
     "data": {
      "text/html": [
       "<div>\n",
       "<style scoped>\n",
       "    .dataframe tbody tr th:only-of-type {\n",
       "        vertical-align: middle;\n",
       "    }\n",
       "\n",
       "    .dataframe tbody tr th {\n",
       "        vertical-align: top;\n",
       "    }\n",
       "\n",
       "    .dataframe thead th {\n",
       "        text-align: right;\n",
       "    }\n",
       "</style>\n",
       "<table border=\"1\" class=\"dataframe\">\n",
       "  <thead>\n",
       "    <tr style=\"text-align: right;\">\n",
       "      <th></th>\n",
       "      <th>GENHLTH</th>\n",
       "      <th>MARITAL</th>\n",
       "      <th>SMOKDAY2</th>\n",
       "    </tr>\n",
       "  </thead>\n",
       "  <tbody>\n",
       "    <tr>\n",
       "      <th>7</th>\n",
       "      <td>Very good</td>\n",
       "      <td>Divorced</td>\n",
       "      <td>Some days</td>\n",
       "    </tr>\n",
       "    <tr>\n",
       "      <th>31</th>\n",
       "      <td>Very good</td>\n",
       "      <td>A member of an unmarried couple</td>\n",
       "      <td>Not at all</td>\n",
       "    </tr>\n",
       "    <tr>\n",
       "      <th>40</th>\n",
       "      <td>Very good</td>\n",
       "      <td>Divorced</td>\n",
       "      <td>Not at all</td>\n",
       "    </tr>\n",
       "    <tr>\n",
       "      <th>48</th>\n",
       "      <td>Good</td>\n",
       "      <td>Never married</td>\n",
       "      <td>Some days</td>\n",
       "    </tr>\n",
       "    <tr>\n",
       "      <th>54</th>\n",
       "      <td>Very good</td>\n",
       "      <td>Widowed</td>\n",
       "      <td>Not at all</td>\n",
       "    </tr>\n",
       "    <tr>\n",
       "      <th>...</th>\n",
       "      <td>...</td>\n",
       "      <td>...</td>\n",
       "      <td>...</td>\n",
       "    </tr>\n",
       "    <tr>\n",
       "      <th>12260</th>\n",
       "      <td>Fair</td>\n",
       "      <td>Never married</td>\n",
       "      <td>Every day</td>\n",
       "    </tr>\n",
       "    <tr>\n",
       "      <th>12271</th>\n",
       "      <td>Good</td>\n",
       "      <td>Married</td>\n",
       "      <td>Every day</td>\n",
       "    </tr>\n",
       "    <tr>\n",
       "      <th>12274</th>\n",
       "      <td>Very good</td>\n",
       "      <td>Married</td>\n",
       "      <td>Some days</td>\n",
       "    </tr>\n",
       "    <tr>\n",
       "      <th>12321</th>\n",
       "      <td>Good</td>\n",
       "      <td>Married</td>\n",
       "      <td>Not at all</td>\n",
       "    </tr>\n",
       "    <tr>\n",
       "      <th>12330</th>\n",
       "      <td>Excellent</td>\n",
       "      <td>Married</td>\n",
       "      <td>Not at all</td>\n",
       "    </tr>\n",
       "  </tbody>\n",
       "</table>\n",
       "<p>583 rows × 3 columns</p>\n",
       "</div>"
      ],
      "text/plain": [
       "         GENHLTH                          MARITAL    SMOKDAY2\n",
       "7      Very good                         Divorced   Some days\n",
       "31     Very good  A member of an unmarried couple  Not at all\n",
       "40     Very good                         Divorced  Not at all\n",
       "48          Good                    Never married   Some days\n",
       "54     Very good                          Widowed  Not at all\n",
       "...          ...                              ...         ...\n",
       "12260       Fair                    Never married   Every day\n",
       "12271       Good                          Married   Every day\n",
       "12274  Very good                          Married   Some days\n",
       "12321       Good                          Married  Not at all\n",
       "12330  Excellent                          Married  Not at all\n",
       "\n",
       "[583 rows x 3 columns]"
      ]
     },
     "execution_count": 62,
     "metadata": {},
     "output_type": "execute_result"
    }
   ],
   "source": [
    "df"
   ]
  },
  {
   "cell_type": "code",
   "execution_count": 63,
   "id": "630e64f1",
   "metadata": {},
   "outputs": [],
   "source": [
    "# Main part done. Considring extra options below"
   ]
  },
  {
   "cell_type": "code",
   "execution_count": 64,
   "id": "579b743b",
   "metadata": {},
   "outputs": [
    {
     "name": "stderr",
     "output_type": "stream",
     "text": [
      "C:\\ProgramData\\Anaconda3\\lib\\site-packages\\pandas\\core\\generic.py:5494: SettingWithCopyWarning: \n",
      "A value is trying to be set on a copy of a slice from a DataFrame.\n",
      "Try using .loc[row_indexer,col_indexer] = value instead\n",
      "\n",
      "See the caveats in the documentation: https://pandas.pydata.org/pandas-docs/stable/user_guide/indexing.html#returning-a-view-versus-a-copy\n",
      "  self[name] = value\n"
     ]
    },
    {
     "data": {
      "text/plain": [
       "No     323\n",
       "Yes    260\n",
       "Name: SMOKDAY2, dtype: int64"
      ]
     },
     "execution_count": 64,
     "metadata": {},
     "output_type": "execute_result"
    }
   ],
   "source": [
    "# Simplifying SMOKDAY2\n",
    "\n",
    "# Replace by mapping in column SMOKDAY2\n",
    "mapping = {'Not at all': \"No\",\n",
    "           'Every day': \"Yes\",\n",
    "           'Some days': \"Yes\"}\n",
    "df.SMOKDAY2 = df.SMOKDAY2.map(mapping)\n",
    "\n",
    "df['SMOKDAY2'].value_counts()"
   ]
  },
  {
   "cell_type": "code",
   "execution_count": 65,
   "id": "4deaf9a4",
   "metadata": {},
   "outputs": [
    {
     "data": {
      "text/plain": [
       "Married               315\n",
       "Never Married         139\n",
       "Previously Married    110\n",
       "Unmarried Couple       19\n",
       "Name: MARITAL, dtype: int64"
      ]
     },
     "execution_count": 65,
     "metadata": {},
     "output_type": "execute_result"
    }
   ],
   "source": [
    "# Simplifying MARITAL\n",
    "mapping = {'Married': \"Married\",\n",
    "           'Never married': \"Never Married\",\n",
    "           'Divorced': \"Previously Married\",\n",
    "           'Widowed': \"Previously Married\",\n",
    "           'Separated': \"Previously Married\",\n",
    "           'A member of an unmarried couple': \"Unmarried Couple\"}\n",
    "df.MARITAL = df.MARITAL.map(mapping)\n",
    "\n",
    "#Married                            5742\n",
    "#Never married                      2538\n",
    "#Divorced                           1567\n",
    "#Widowed                            1505\n",
    "#Separated                           424\n",
    "#A member of an unmarried couple     408\n",
    "\n",
    "df['MARITAL'].value_counts()"
   ]
  },
  {
   "cell_type": "code",
   "execution_count": 66,
   "id": "59cd0d1c",
   "metadata": {},
   "outputs": [
    {
     "data": {
      "text/plain": [
       "Good       487\n",
       "Average     64\n",
       "Poor        32\n",
       "Name: GENHLTH, dtype: int64"
      ]
     },
     "execution_count": 66,
     "metadata": {},
     "output_type": "execute_result"
    }
   ],
   "source": [
    "# Simplifying GENHLTH\n",
    "mapping = {'Poor': 'Poor',\n",
    "           'Fair': 'Average',\n",
    "           'Excellent': 'Good',\n",
    "           'Good': 'Good',\n",
    "           'Very good': 'Good'}\n",
    "df.GENHLTH = df.GENHLTH.map(mapping)\n",
    "\n",
    "df['GENHLTH'].value_counts()"
   ]
  },
  {
   "cell_type": "code",
   "execution_count": 67,
   "id": "fd73bb52",
   "metadata": {},
   "outputs": [],
   "source": [
    "df.to_csv('RQ1 Cleaned.csv', index = False)"
   ]
  },
  {
   "cell_type": "code",
   "execution_count": null,
   "id": "d747169d",
   "metadata": {},
   "outputs": [],
   "source": []
  },
  {
   "cell_type": "code",
   "execution_count": null,
   "id": "811a098e",
   "metadata": {},
   "outputs": [],
   "source": []
  },
  {
   "cell_type": "code",
   "execution_count": null,
   "id": "b97737c3",
   "metadata": {},
   "outputs": [],
   "source": []
  },
  {
   "cell_type": "code",
   "execution_count": null,
   "id": "738bca14",
   "metadata": {},
   "outputs": [],
   "source": []
  },
  {
   "cell_type": "code",
   "execution_count": null,
   "id": "704ae5ce",
   "metadata": {},
   "outputs": [],
   "source": []
  }
 ],
 "metadata": {
  "kernelspec": {
   "display_name": "Python 3",
   "language": "python",
   "name": "python3"
  },
  "language_info": {
   "codemirror_mode": {
    "name": "ipython",
    "version": 3
   },
   "file_extension": ".py",
   "mimetype": "text/x-python",
   "name": "python",
   "nbconvert_exporter": "python",
   "pygments_lexer": "ipython3",
   "version": "3.8.8"
  }
 },
 "nbformat": 4,
 "nbformat_minor": 5
}
