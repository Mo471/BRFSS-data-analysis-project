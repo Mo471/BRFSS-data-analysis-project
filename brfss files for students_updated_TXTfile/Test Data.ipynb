{
 "cells": [
  {
   "cell_type": "code",
   "execution_count": 52,
   "id": "21f7f784",
   "metadata": {},
   "outputs": [],
   "source": [
    "# BRFSS\n",
    "\n",
    "# Importing libraries\n",
    "import pandas as pd\n",
    "import numpy as np\n",
    "\n",
    "import time"
   ]
  },
  {
   "cell_type": "code",
   "execution_count": 53,
   "id": "50f303f0",
   "metadata": {},
   "outputs": [
    {
     "name": "stderr",
     "output_type": "stream",
     "text": [
      "C:\\ProgramData\\Anaconda3\\lib\\site-packages\\IPython\\core\\interactiveshell.py:3165: DtypeWarning: Columns (183,378) have mixed types.Specify dtype option on import or set low_memory=False.\n",
      "  has_raised = await self.run_ast_nodes(code_ast.body, cell_name,\n"
     ]
    }
   ],
   "source": [
    "# Reading CSV, creating data frame and testing it out\n",
    "df = pd.read_csv('brfss_for_bda_2021.csv', skipinitialspace = True)"
   ]
  },
  {
   "cell_type": "code",
   "execution_count": 23,
   "id": "b89df70c",
   "metadata": {},
   "outputs": [
    {
     "data": {
      "text/html": [
       "<div>\n",
       "<style scoped>\n",
       "    .dataframe tbody tr th:only-of-type {\n",
       "        vertical-align: middle;\n",
       "    }\n",
       "\n",
       "    .dataframe tbody tr th {\n",
       "        vertical-align: top;\n",
       "    }\n",
       "\n",
       "    .dataframe thead th {\n",
       "        text-align: right;\n",
       "    }\n",
       "</style>\n",
       "<table border=\"1\" class=\"dataframe\">\n",
       "  <thead>\n",
       "    <tr style=\"text-align: right;\">\n",
       "      <th></th>\n",
       "      <th>GENHLTH</th>\n",
       "      <th>SEX</th>\n",
       "      <th>AGE</th>\n",
       "      <th>MARITAL</th>\n",
       "      <th>SMOKDAY2</th>\n",
       "    </tr>\n",
       "  </thead>\n",
       "  <tbody>\n",
       "    <tr>\n",
       "      <th>0</th>\n",
       "      <td>Very good</td>\n",
       "      <td>Male</td>\n",
       "      <td>Age 25 - 34</td>\n",
       "      <td>Never married</td>\n",
       "      <td>Not asked or Missing</td>\n",
       "    </tr>\n",
       "    <tr>\n",
       "      <th>1</th>\n",
       "      <td>Good</td>\n",
       "      <td>Female</td>\n",
       "      <td>Age 45 - 54</td>\n",
       "      <td>Separated</td>\n",
       "      <td>Not asked or Missing</td>\n",
       "    </tr>\n",
       "    <tr>\n",
       "      <th>2</th>\n",
       "      <td>Very good</td>\n",
       "      <td>Female</td>\n",
       "      <td>Age 25 - 34</td>\n",
       "      <td>Never married</td>\n",
       "      <td>Not asked or Missing</td>\n",
       "    </tr>\n",
       "    <tr>\n",
       "      <th>3</th>\n",
       "      <td>Excellent</td>\n",
       "      <td>Male</td>\n",
       "      <td>Age 18 - 24</td>\n",
       "      <td>Never married</td>\n",
       "      <td>Not asked or Missing</td>\n",
       "    </tr>\n",
       "    <tr>\n",
       "      <th>4</th>\n",
       "      <td>Excellent</td>\n",
       "      <td>Female</td>\n",
       "      <td>Age 25 - 34</td>\n",
       "      <td>Never married</td>\n",
       "      <td>Not asked or Missing</td>\n",
       "    </tr>\n",
       "    <tr>\n",
       "      <th>...</th>\n",
       "      <td>...</td>\n",
       "      <td>...</td>\n",
       "      <td>...</td>\n",
       "      <td>...</td>\n",
       "      <td>...</td>\n",
       "    </tr>\n",
       "    <tr>\n",
       "      <th>12333</th>\n",
       "      <td>Good</td>\n",
       "      <td>Male</td>\n",
       "      <td>Age 18 - 24</td>\n",
       "      <td>Never married</td>\n",
       "      <td>Every day</td>\n",
       "    </tr>\n",
       "    <tr>\n",
       "      <th>12334</th>\n",
       "      <td>Good</td>\n",
       "      <td>Female</td>\n",
       "      <td>Age 65 or older</td>\n",
       "      <td>Married</td>\n",
       "      <td>Not asked or Missing</td>\n",
       "    </tr>\n",
       "    <tr>\n",
       "      <th>12335</th>\n",
       "      <td>Excellent</td>\n",
       "      <td>Male</td>\n",
       "      <td>Age 55 - 64</td>\n",
       "      <td>A member of an unmarried couple</td>\n",
       "      <td>Not asked or Missing</td>\n",
       "    </tr>\n",
       "    <tr>\n",
       "      <th>12336</th>\n",
       "      <td>Good</td>\n",
       "      <td>Female</td>\n",
       "      <td>Age 25 - 34</td>\n",
       "      <td>A member of an unmarried couple</td>\n",
       "      <td>Not asked or Missing</td>\n",
       "    </tr>\n",
       "    <tr>\n",
       "      <th>12337</th>\n",
       "      <td>Very good</td>\n",
       "      <td>Male</td>\n",
       "      <td>Age 18 - 24</td>\n",
       "      <td>Never married</td>\n",
       "      <td>Some days</td>\n",
       "    </tr>\n",
       "  </tbody>\n",
       "</table>\n",
       "<p>12338 rows × 5 columns</p>\n",
       "</div>"
      ],
      "text/plain": [
       "         GENHLTH     SEX              AGE                          MARITAL  \\\n",
       "0      Very good    Male      Age 25 - 34                    Never married   \n",
       "1           Good  Female      Age 45 - 54                        Separated   \n",
       "2      Very good  Female      Age 25 - 34                    Never married   \n",
       "3      Excellent    Male      Age 18 - 24                    Never married   \n",
       "4      Excellent  Female      Age 25 - 34                    Never married   \n",
       "...          ...     ...              ...                              ...   \n",
       "12333       Good    Male      Age 18 - 24                    Never married   \n",
       "12334       Good  Female  Age 65 or older                          Married   \n",
       "12335  Excellent    Male      Age 55 - 64  A member of an unmarried couple   \n",
       "12336       Good  Female      Age 25 - 34  A member of an unmarried couple   \n",
       "12337  Very good    Male      Age 18 - 24                    Never married   \n",
       "\n",
       "                   SMOKDAY2  \n",
       "0      Not asked or Missing  \n",
       "1      Not asked or Missing  \n",
       "2      Not asked or Missing  \n",
       "3      Not asked or Missing  \n",
       "4      Not asked or Missing  \n",
       "...                     ...  \n",
       "12333             Every day  \n",
       "12334  Not asked or Missing  \n",
       "12335  Not asked or Missing  \n",
       "12336  Not asked or Missing  \n",
       "12337             Some days  \n",
       "\n",
       "[12338 rows x 5 columns]"
      ]
     },
     "execution_count": 23,
     "metadata": {},
     "output_type": "execute_result"
    }
   ],
   "source": [
    "#df.drop(['column_nameA', 'column_nameB'], axis=1, inplace=True)\n",
    "\n",
    "df.drop(df.columns.difference(['SMOKDAY2','MARITAL','GENHLTH', 'SEX', 'AGE']), 1, inplace=True)\n",
    "df"
   ]
  },
  {
   "cell_type": "code",
   "execution_count": 31,
   "id": "99f50504",
   "metadata": {},
   "outputs": [
    {
     "data": {
      "text/plain": [
       "Age 65 or older        4031\n",
       "Age 55 - 64            2559\n",
       "Age 45 - 54            2150\n",
       "Age 35 - 44            1471\n",
       "Age 25 - 34            1273\n",
       "Age 18 - 24             657\n",
       "Refused                 186\n",
       "Don't know/Not sure      11\n",
       "Name: AGE, dtype: int64"
      ]
     },
     "execution_count": 31,
     "metadata": {},
     "output_type": "execute_result"
    }
   ],
   "source": [
    "# Breakdown of column\n",
    "df['AGE'].value_counts()"
   ]
  },
  {
   "cell_type": "code",
   "execution_count": 39,
   "id": "d5881b16",
   "metadata": {},
   "outputs": [
    {
     "data": {
      "text/plain": [
       "Very good    4063\n",
       "Good         3838\n",
       "Excellent    2236\n",
       "Fair         1536\n",
       "Poor          600\n",
       "Name: GENHLTH, dtype: int64"
      ]
     },
     "execution_count": 39,
     "metadata": {},
     "output_type": "execute_result"
    }
   ],
   "source": [
    "# Cleaning GENHLTH\n",
    "valid_set = set([\"Don't know/Not Sure\", \"Refused\"])\n",
    "df.loc[df.GENHLTH.isin(valid_set), 'GENHLTH'] = np.NaN\n",
    "\n",
    "# Check that cleaned properly\n",
    "df['GENHLTH'].value_counts()"
   ]
  },
  {
   "cell_type": "code",
   "execution_count": 27,
   "id": "50ee53fc",
   "metadata": {
    "scrolled": true
   },
   "outputs": [
    {
     "data": {
      "text/plain": [
       "Not at all    3472\n",
       "Every day     1075\n",
       "Some days      495\n",
       "Name: SMOKDAY2, dtype: int64"
      ]
     },
     "execution_count": 27,
     "metadata": {},
     "output_type": "execute_result"
    }
   ],
   "source": [
    "# Cleaning SMOKDAY2\n",
    "valid_set = set([\"Not asked or Missing\", \"Refused\", \"Don´t Know/Not Sure\"])\n",
    "df.loc[df.SMOKDAY2.isin(valid_set), 'SMOKDAY2'] = np.NaN\n",
    "\n",
    "# Check that cleaned properly\n",
    "df['SMOKDAY2'].value_counts()"
   ]
  },
  {
   "cell_type": "code",
   "execution_count": 30,
   "id": "6ee1c652",
   "metadata": {
    "scrolled": true
   },
   "outputs": [
    {
     "data": {
      "text/plain": [
       "Married                            5742\n",
       "Never married                      2538\n",
       "Divorced                           1567\n",
       "Widowed                            1505\n",
       "Separated                           424\n",
       "A member of an unmarried couple     408\n",
       "Name: MARITAL, dtype: int64"
      ]
     },
     "execution_count": 30,
     "metadata": {},
     "output_type": "execute_result"
    }
   ],
   "source": [
    "# Cleaning MARITAL\n",
    "valid_set = set([\"Refused\"])\n",
    "df.loc[df.MARITAL.isin(valid_set), 'MARITAL'] = np.NaN\n",
    "\n",
    "# Check that cleaned properly\n",
    "df['MARITAL'].value_counts()"
   ]
  },
  {
   "cell_type": "code",
   "execution_count": 33,
   "id": "35c3de29",
   "metadata": {
    "scrolled": true
   },
   "outputs": [
    {
     "data": {
      "text/plain": [
       "Age 45 - 54    2150\n",
       "Age 35 - 44    1471\n",
       "Name: AGE, dtype: int64"
      ]
     },
     "execution_count": 33,
     "metadata": {},
     "output_type": "execute_result"
    }
   ],
   "source": [
    "# Cleaning AGE\n",
    "valid_set = set([\"Age 45 - 54\", \"Age 35 - 44\"])\n",
    "df.loc[~df.AGE.isin(valid_set), 'AGE'] = np.NaN\n",
    "\n",
    "# Check that cleaned properly\n",
    "df['AGE'].value_counts()"
   ]
  },
  {
   "cell_type": "code",
   "execution_count": 36,
   "id": "685e51b2",
   "metadata": {},
   "outputs": [],
   "source": [
    "df.to_csv('RQ1 Cleaned.csv', index = False)"
   ]
  },
  {
   "cell_type": "code",
   "execution_count": null,
   "id": "f34ff3b3",
   "metadata": {},
   "outputs": [],
   "source": []
  },
  {
   "cell_type": "code",
   "execution_count": null,
   "id": "01c272a1",
   "metadata": {},
   "outputs": [],
   "source": []
  },
  {
   "cell_type": "code",
   "execution_count": null,
   "id": "67352f3c",
   "metadata": {},
   "outputs": [],
   "source": []
  },
  {
   "cell_type": "code",
   "execution_count": 7,
   "id": "12ed78f5",
   "metadata": {},
   "outputs": [
    {
     "data": {
      "text/plain": [
       "$75,000 or more                                     3715\n",
       "Less than $75,000 ($50,000 to less than $75,000)    1557\n",
       "Less than $50,000 ($35,000 to less than $50,000)    1226\n",
       "Refused                                             1062\n",
       "Less than $35,000 ($25,000 to less than $35,000)    1009\n",
       "Less than $25,000 ($20,000 to less than $25,000)     870\n",
       "Less than $20,000 ($15,000 to less than $20,000)     842\n",
       "Don't know/Not sure                                  755\n",
       "Less than $10,000                                    575\n",
       "Less than $15,000 ($10,000 to less than $15,000)     547\n",
       "Not asked or Missing                                 180\n",
       "Name: INCOME2, dtype: int64"
      ]
     },
     "execution_count": 7,
     "metadata": {},
     "output_type": "execute_result"
    }
   ],
   "source": [
    "# Breakdown of column\n",
    "df['INCOME2'].value_counts()\n",
    "\n"
   ]
  },
  {
   "cell_type": "code",
   "execution_count": 38,
   "id": "8e66bb22",
   "metadata": {},
   "outputs": [
    {
     "data": {
      "text/plain": [
       "0.0    3472\n",
       "1.0    1570\n",
       "Name: SMOKDAY2, dtype: int64"
      ]
     },
     "execution_count": 38,
     "metadata": {},
     "output_type": "execute_result"
    }
   ],
   "source": [
    "# Replace by mapping in column SMOKDAY2\n",
    "mapping = {'Not at all': 0,\n",
    "           'Every day': 1,\n",
    "           'Some days': 1}\n",
    "df.SMOKDAY2 = df.SMOKDAY2.map(mapping)\n",
    "\n",
    "df['SMOKDAY2'].value_counts()"
   ]
  },
  {
   "cell_type": "code",
   "execution_count": 43,
   "id": "5aa2bffb",
   "metadata": {},
   "outputs": [
    {
     "data": {
      "text/plain": [
       "4.0    4063\n",
       "3.0    3838\n",
       "2.0    2236\n",
       "1.0    1536\n",
       "0.0     600\n",
       "Name: GENHLTH, dtype: int64"
      ]
     },
     "execution_count": 43,
     "metadata": {},
     "output_type": "execute_result"
    }
   ],
   "source": [
    "# Replace by mapping in column GENHLTH\n",
    "mapping = {'Poor': 0,\n",
    "           'Fair': 1,\n",
    "           'Excellent': 2,\n",
    "           'Good': 3,\n",
    "           'Very good': 4}\n",
    "df.GENHLTH = df.GENHLTH.map(mapping)\n",
    "\n",
    "df['GENHLTH'].value_counts()"
   ]
  },
  {
   "cell_type": "code",
   "execution_count": 44,
   "id": "92477509",
   "metadata": {
    "scrolled": true
   },
   "outputs": [
    {
     "data": {
      "text/plain": [
       "0.0    5742\n",
       "1.0    2538\n",
       "2.0    1567\n",
       "3.0    1505\n",
       "4.0     424\n",
       "5.0     408\n",
       "Name: MARITAL, dtype: int64"
      ]
     },
     "execution_count": 44,
     "metadata": {},
     "output_type": "execute_result"
    }
   ],
   "source": [
    "# Replace by mapping in column MARITAL\n",
    "mapping = {'Married': 0,\n",
    "           'Never married': 1,\n",
    "           'Divorced': 2,\n",
    "           'Widowed': 3,\n",
    "           'Separated': 4,\n",
    "           'A member of an unmarried couple': 5}\n",
    "df.MARITAL = df.MARITAL.map(mapping)\n",
    "\n",
    "#Married                            5742\n",
    "#Never married                      2538\n",
    "#Divorced                           1567\n",
    "#Widowed                            1505\n",
    "#Separated                           424\n",
    "#A member of an unmarried couple     408\n",
    "\n",
    "df['MARITAL'].value_counts()"
   ]
  },
  {
   "cell_type": "code",
   "execution_count": 46,
   "id": "6d82adc2",
   "metadata": {},
   "outputs": [
    {
     "data": {
      "text/html": [
       "<div>\n",
       "<style scoped>\n",
       "    .dataframe tbody tr th:only-of-type {\n",
       "        vertical-align: middle;\n",
       "    }\n",
       "\n",
       "    .dataframe tbody tr th {\n",
       "        vertical-align: top;\n",
       "    }\n",
       "\n",
       "    .dataframe thead th {\n",
       "        text-align: right;\n",
       "    }\n",
       "</style>\n",
       "<table border=\"1\" class=\"dataframe\">\n",
       "  <thead>\n",
       "    <tr style=\"text-align: right;\">\n",
       "      <th></th>\n",
       "      <th>GENHLTH</th>\n",
       "      <th>SEX</th>\n",
       "      <th>AGE</th>\n",
       "      <th>MARITAL</th>\n",
       "      <th>SMOKDAY2</th>\n",
       "    </tr>\n",
       "  </thead>\n",
       "  <tbody>\n",
       "    <tr>\n",
       "      <th>1</th>\n",
       "      <td>3.0</td>\n",
       "      <td>Female</td>\n",
       "      <td>Age 45 - 54</td>\n",
       "      <td>4.0</td>\n",
       "      <td>NaN</td>\n",
       "    </tr>\n",
       "    <tr>\n",
       "      <th>5</th>\n",
       "      <td>3.0</td>\n",
       "      <td>Female</td>\n",
       "      <td>Age 35 - 44</td>\n",
       "      <td>1.0</td>\n",
       "      <td>1.0</td>\n",
       "    </tr>\n",
       "    <tr>\n",
       "      <th>7</th>\n",
       "      <td>4.0</td>\n",
       "      <td>Male</td>\n",
       "      <td>Age 35 - 44</td>\n",
       "      <td>2.0</td>\n",
       "      <td>1.0</td>\n",
       "    </tr>\n",
       "    <tr>\n",
       "      <th>8</th>\n",
       "      <td>3.0</td>\n",
       "      <td>Male</td>\n",
       "      <td>Age 35 - 44</td>\n",
       "      <td>0.0</td>\n",
       "      <td>NaN</td>\n",
       "    </tr>\n",
       "    <tr>\n",
       "      <th>14</th>\n",
       "      <td>2.0</td>\n",
       "      <td>Male</td>\n",
       "      <td>Age 35 - 44</td>\n",
       "      <td>0.0</td>\n",
       "      <td>NaN</td>\n",
       "    </tr>\n",
       "    <tr>\n",
       "      <th>...</th>\n",
       "      <td>...</td>\n",
       "      <td>...</td>\n",
       "      <td>...</td>\n",
       "      <td>...</td>\n",
       "      <td>...</td>\n",
       "    </tr>\n",
       "    <tr>\n",
       "      <th>12319</th>\n",
       "      <td>2.0</td>\n",
       "      <td>Female</td>\n",
       "      <td>Age 35 - 44</td>\n",
       "      <td>0.0</td>\n",
       "      <td>NaN</td>\n",
       "    </tr>\n",
       "    <tr>\n",
       "      <th>12321</th>\n",
       "      <td>3.0</td>\n",
       "      <td>Male</td>\n",
       "      <td>Age 35 - 44</td>\n",
       "      <td>0.0</td>\n",
       "      <td>0.0</td>\n",
       "    </tr>\n",
       "    <tr>\n",
       "      <th>12326</th>\n",
       "      <td>3.0</td>\n",
       "      <td>Male</td>\n",
       "      <td>Age 35 - 44</td>\n",
       "      <td>NaN</td>\n",
       "      <td>NaN</td>\n",
       "    </tr>\n",
       "    <tr>\n",
       "      <th>12330</th>\n",
       "      <td>2.0</td>\n",
       "      <td>Male</td>\n",
       "      <td>Age 35 - 44</td>\n",
       "      <td>0.0</td>\n",
       "      <td>0.0</td>\n",
       "    </tr>\n",
       "    <tr>\n",
       "      <th>12332</th>\n",
       "      <td>2.0</td>\n",
       "      <td>Female</td>\n",
       "      <td>Age 35 - 44</td>\n",
       "      <td>5.0</td>\n",
       "      <td>NaN</td>\n",
       "    </tr>\n",
       "  </tbody>\n",
       "</table>\n",
       "<p>3621 rows × 5 columns</p>\n",
       "</div>"
      ],
      "text/plain": [
       "       GENHLTH     SEX          AGE  MARITAL  SMOKDAY2\n",
       "1          3.0  Female  Age 45 - 54      4.0       NaN\n",
       "5          3.0  Female  Age 35 - 44      1.0       1.0\n",
       "7          4.0    Male  Age 35 - 44      2.0       1.0\n",
       "8          3.0    Male  Age 35 - 44      0.0       NaN\n",
       "14         2.0    Male  Age 35 - 44      0.0       NaN\n",
       "...        ...     ...          ...      ...       ...\n",
       "12319      2.0  Female  Age 35 - 44      0.0       NaN\n",
       "12321      3.0    Male  Age 35 - 44      0.0       0.0\n",
       "12326      3.0    Male  Age 35 - 44      NaN       NaN\n",
       "12330      2.0    Male  Age 35 - 44      0.0       0.0\n",
       "12332      2.0  Female  Age 35 - 44      5.0       NaN\n",
       "\n",
       "[3621 rows x 5 columns]"
      ]
     },
     "execution_count": 46,
     "metadata": {},
     "output_type": "execute_result"
    }
   ],
   "source": [
    "# Filter and delete by age\n",
    "df = df.loc[df['AGE'].isin(['Age 45 - 54', 'Age 35 - 44'])]\n",
    "\n",
    "df"
   ]
  },
  {
   "cell_type": "code",
   "execution_count": 47,
   "id": "43fe8654",
   "metadata": {},
   "outputs": [
    {
     "data": {
      "text/html": [
       "<div>\n",
       "<style scoped>\n",
       "    .dataframe tbody tr th:only-of-type {\n",
       "        vertical-align: middle;\n",
       "    }\n",
       "\n",
       "    .dataframe tbody tr th {\n",
       "        vertical-align: top;\n",
       "    }\n",
       "\n",
       "    .dataframe thead th {\n",
       "        text-align: right;\n",
       "    }\n",
       "</style>\n",
       "<table border=\"1\" class=\"dataframe\">\n",
       "  <thead>\n",
       "    <tr style=\"text-align: right;\">\n",
       "      <th></th>\n",
       "      <th>GENHLTH</th>\n",
       "      <th>SEX</th>\n",
       "      <th>AGE</th>\n",
       "      <th>MARITAL</th>\n",
       "      <th>SMOKDAY2</th>\n",
       "    </tr>\n",
       "  </thead>\n",
       "  <tbody>\n",
       "    <tr>\n",
       "      <th>7</th>\n",
       "      <td>4.0</td>\n",
       "      <td>Male</td>\n",
       "      <td>Age 35 - 44</td>\n",
       "      <td>2.0</td>\n",
       "      <td>1.0</td>\n",
       "    </tr>\n",
       "    <tr>\n",
       "      <th>8</th>\n",
       "      <td>3.0</td>\n",
       "      <td>Male</td>\n",
       "      <td>Age 35 - 44</td>\n",
       "      <td>0.0</td>\n",
       "      <td>NaN</td>\n",
       "    </tr>\n",
       "    <tr>\n",
       "      <th>14</th>\n",
       "      <td>2.0</td>\n",
       "      <td>Male</td>\n",
       "      <td>Age 35 - 44</td>\n",
       "      <td>0.0</td>\n",
       "      <td>NaN</td>\n",
       "    </tr>\n",
       "    <tr>\n",
       "      <th>31</th>\n",
       "      <td>4.0</td>\n",
       "      <td>Male</td>\n",
       "      <td>Age 35 - 44</td>\n",
       "      <td>5.0</td>\n",
       "      <td>0.0</td>\n",
       "    </tr>\n",
       "    <tr>\n",
       "      <th>37</th>\n",
       "      <td>4.0</td>\n",
       "      <td>Male</td>\n",
       "      <td>Age 35 - 44</td>\n",
       "      <td>0.0</td>\n",
       "      <td>NaN</td>\n",
       "    </tr>\n",
       "    <tr>\n",
       "      <th>...</th>\n",
       "      <td>...</td>\n",
       "      <td>...</td>\n",
       "      <td>...</td>\n",
       "      <td>...</td>\n",
       "      <td>...</td>\n",
       "    </tr>\n",
       "    <tr>\n",
       "      <th>12309</th>\n",
       "      <td>4.0</td>\n",
       "      <td>Male</td>\n",
       "      <td>Age 35 - 44</td>\n",
       "      <td>2.0</td>\n",
       "      <td>NaN</td>\n",
       "    </tr>\n",
       "    <tr>\n",
       "      <th>12315</th>\n",
       "      <td>1.0</td>\n",
       "      <td>Male</td>\n",
       "      <td>Age 35 - 44</td>\n",
       "      <td>0.0</td>\n",
       "      <td>NaN</td>\n",
       "    </tr>\n",
       "    <tr>\n",
       "      <th>12321</th>\n",
       "      <td>3.0</td>\n",
       "      <td>Male</td>\n",
       "      <td>Age 35 - 44</td>\n",
       "      <td>0.0</td>\n",
       "      <td>0.0</td>\n",
       "    </tr>\n",
       "    <tr>\n",
       "      <th>12326</th>\n",
       "      <td>3.0</td>\n",
       "      <td>Male</td>\n",
       "      <td>Age 35 - 44</td>\n",
       "      <td>NaN</td>\n",
       "      <td>NaN</td>\n",
       "    </tr>\n",
       "    <tr>\n",
       "      <th>12330</th>\n",
       "      <td>2.0</td>\n",
       "      <td>Male</td>\n",
       "      <td>Age 35 - 44</td>\n",
       "      <td>0.0</td>\n",
       "      <td>0.0</td>\n",
       "    </tr>\n",
       "  </tbody>\n",
       "</table>\n",
       "<p>1501 rows × 5 columns</p>\n",
       "</div>"
      ],
      "text/plain": [
       "       GENHLTH   SEX          AGE  MARITAL  SMOKDAY2\n",
       "7          4.0  Male  Age 35 - 44      2.0       1.0\n",
       "8          3.0  Male  Age 35 - 44      0.0       NaN\n",
       "14         2.0  Male  Age 35 - 44      0.0       NaN\n",
       "31         4.0  Male  Age 35 - 44      5.0       0.0\n",
       "37         4.0  Male  Age 35 - 44      0.0       NaN\n",
       "...        ...   ...          ...      ...       ...\n",
       "12309      4.0  Male  Age 35 - 44      2.0       NaN\n",
       "12315      1.0  Male  Age 35 - 44      0.0       NaN\n",
       "12321      3.0  Male  Age 35 - 44      0.0       0.0\n",
       "12326      3.0  Male  Age 35 - 44      NaN       NaN\n",
       "12330      2.0  Male  Age 35 - 44      0.0       0.0\n",
       "\n",
       "[1501 rows x 5 columns]"
      ]
     },
     "execution_count": 47,
     "metadata": {},
     "output_type": "execute_result"
    }
   ],
   "source": [
    "# Filter and delete by sex\n",
    "df = df.loc[df['SEX'].isin(['Male'])]\n",
    "\n",
    "df"
   ]
  },
  {
   "cell_type": "code",
   "execution_count": 50,
   "id": "d0db8bae",
   "metadata": {},
   "outputs": [
    {
     "name": "stderr",
     "output_type": "stream",
     "text": [
      "C:\\ProgramData\\Anaconda3\\lib\\site-packages\\pandas\\core\\frame.py:4308: SettingWithCopyWarning: \n",
      "A value is trying to be set on a copy of a slice from a DataFrame\n",
      "\n",
      "See the caveats in the documentation: https://pandas.pydata.org/pandas-docs/stable/user_guide/indexing.html#returning-a-view-versus-a-copy\n",
      "  return super().drop(\n"
     ]
    },
    {
     "data": {
      "text/html": [
       "<div>\n",
       "<style scoped>\n",
       "    .dataframe tbody tr th:only-of-type {\n",
       "        vertical-align: middle;\n",
       "    }\n",
       "\n",
       "    .dataframe tbody tr th {\n",
       "        vertical-align: top;\n",
       "    }\n",
       "\n",
       "    .dataframe thead th {\n",
       "        text-align: right;\n",
       "    }\n",
       "</style>\n",
       "<table border=\"1\" class=\"dataframe\">\n",
       "  <thead>\n",
       "    <tr style=\"text-align: right;\">\n",
       "      <th></th>\n",
       "      <th>GENHLTH</th>\n",
       "      <th>MARITAL</th>\n",
       "      <th>SMOKDAY2</th>\n",
       "    </tr>\n",
       "  </thead>\n",
       "  <tbody>\n",
       "    <tr>\n",
       "      <th>7</th>\n",
       "      <td>4.0</td>\n",
       "      <td>2.0</td>\n",
       "      <td>1.0</td>\n",
       "    </tr>\n",
       "    <tr>\n",
       "      <th>8</th>\n",
       "      <td>3.0</td>\n",
       "      <td>0.0</td>\n",
       "      <td>NaN</td>\n",
       "    </tr>\n",
       "    <tr>\n",
       "      <th>14</th>\n",
       "      <td>2.0</td>\n",
       "      <td>0.0</td>\n",
       "      <td>NaN</td>\n",
       "    </tr>\n",
       "    <tr>\n",
       "      <th>31</th>\n",
       "      <td>4.0</td>\n",
       "      <td>5.0</td>\n",
       "      <td>0.0</td>\n",
       "    </tr>\n",
       "    <tr>\n",
       "      <th>37</th>\n",
       "      <td>4.0</td>\n",
       "      <td>0.0</td>\n",
       "      <td>NaN</td>\n",
       "    </tr>\n",
       "    <tr>\n",
       "      <th>...</th>\n",
       "      <td>...</td>\n",
       "      <td>...</td>\n",
       "      <td>...</td>\n",
       "    </tr>\n",
       "    <tr>\n",
       "      <th>12309</th>\n",
       "      <td>4.0</td>\n",
       "      <td>2.0</td>\n",
       "      <td>NaN</td>\n",
       "    </tr>\n",
       "    <tr>\n",
       "      <th>12315</th>\n",
       "      <td>1.0</td>\n",
       "      <td>0.0</td>\n",
       "      <td>NaN</td>\n",
       "    </tr>\n",
       "    <tr>\n",
       "      <th>12321</th>\n",
       "      <td>3.0</td>\n",
       "      <td>0.0</td>\n",
       "      <td>0.0</td>\n",
       "    </tr>\n",
       "    <tr>\n",
       "      <th>12326</th>\n",
       "      <td>3.0</td>\n",
       "      <td>NaN</td>\n",
       "      <td>NaN</td>\n",
       "    </tr>\n",
       "    <tr>\n",
       "      <th>12330</th>\n",
       "      <td>2.0</td>\n",
       "      <td>0.0</td>\n",
       "      <td>0.0</td>\n",
       "    </tr>\n",
       "  </tbody>\n",
       "</table>\n",
       "<p>1501 rows × 3 columns</p>\n",
       "</div>"
      ],
      "text/plain": [
       "       GENHLTH  MARITAL  SMOKDAY2\n",
       "7          4.0      2.0       1.0\n",
       "8          3.0      0.0       NaN\n",
       "14         2.0      0.0       NaN\n",
       "31         4.0      5.0       0.0\n",
       "37         4.0      0.0       NaN\n",
       "...        ...      ...       ...\n",
       "12309      4.0      2.0       NaN\n",
       "12315      1.0      0.0       NaN\n",
       "12321      3.0      0.0       0.0\n",
       "12326      3.0      NaN       NaN\n",
       "12330      2.0      0.0       0.0\n",
       "\n",
       "[1501 rows x 3 columns]"
      ]
     },
     "execution_count": 50,
     "metadata": {},
     "output_type": "execute_result"
    }
   ],
   "source": [
    "df.drop(['SEX'], axis=1, inplace=True)\n",
    "df.drop(['AGE'], axis=1, inplace=True)\n",
    "\n",
    "df"
   ]
  },
  {
   "cell_type": "code",
   "execution_count": 51,
   "id": "e44b17f9",
   "metadata": {},
   "outputs": [],
   "source": [
    "df.to_csv('RQ1 Cleaned Numbers.csv', index = False)"
   ]
  },
  {
   "cell_type": "code",
   "execution_count": null,
   "id": "5c14eb15",
   "metadata": {},
   "outputs": [],
   "source": []
  },
  {
   "cell_type": "code",
   "execution_count": null,
   "id": "5d158d6b",
   "metadata": {},
   "outputs": [],
   "source": []
  },
  {
   "cell_type": "code",
   "execution_count": null,
   "id": "b62ff5b7",
   "metadata": {},
   "outputs": [],
   "source": []
  },
  {
   "cell_type": "code",
   "execution_count": 10,
   "id": "aca0dd85",
   "metadata": {},
   "outputs": [
    {
     "data": {
      "text/plain": [
       "No                      11273\n",
       "Yes                       543\n",
       "Not asked or Missing      477\n",
       "Refused                    24\n",
       "Don't know/Not Sure        21\n",
       "Name: BLIND, dtype: int64"
      ]
     },
     "execution_count": 10,
     "metadata": {},
     "output_type": "execute_result"
    }
   ],
   "source": [
    "# Breakdown of column\n",
    "df['BLIND'].value_counts()"
   ]
  },
  {
   "cell_type": "code",
   "execution_count": 11,
   "id": "98933bfc",
   "metadata": {},
   "outputs": [
    {
     "data": {
      "text/plain": [
       "No     11273\n",
       "Yes      543\n",
       "Name: BLIND, dtype: int64"
      ]
     },
     "execution_count": 11,
     "metadata": {},
     "output_type": "execute_result"
    }
   ],
   "source": [
    "valid_set = set([\"Don't know/Not Sure\", \"Refused\",\"Not asked or Missing\"])\n",
    "df.loc[df.BLIND.isin(valid_set), 'BLIND'] = np.NaN\n",
    "\n",
    "df['BLIND'].value_counts()"
   ]
  },
  {
   "cell_type": "code",
   "execution_count": 12,
   "id": "af33b132",
   "metadata": {},
   "outputs": [],
   "source": [
    "df = df.loc[df['VETERAN3'].isin(['Yes'])]\n"
   ]
  },
  {
   "cell_type": "code",
   "execution_count": 13,
   "id": "f83bf72f",
   "metadata": {
    "scrolled": true
   },
   "outputs": [
    {
     "data": {
      "text/html": [
       "<div>\n",
       "<style scoped>\n",
       "    .dataframe tbody tr th:only-of-type {\n",
       "        vertical-align: middle;\n",
       "    }\n",
       "\n",
       "    .dataframe tbody tr th {\n",
       "        vertical-align: top;\n",
       "    }\n",
       "\n",
       "    .dataframe thead th {\n",
       "        text-align: right;\n",
       "    }\n",
       "</style>\n",
       "<table border=\"1\" class=\"dataframe\">\n",
       "  <thead>\n",
       "    <tr style=\"text-align: right;\">\n",
       "      <th></th>\n",
       "      <th>VETERAN3</th>\n",
       "      <th>INCOME2</th>\n",
       "      <th>BLIND</th>\n",
       "    </tr>\n",
       "  </thead>\n",
       "  <tbody>\n",
       "    <tr>\n",
       "      <th>0</th>\n",
       "      <td>Yes</td>\n",
       "      <td>8.0</td>\n",
       "      <td>No</td>\n",
       "    </tr>\n",
       "    <tr>\n",
       "      <th>7</th>\n",
       "      <td>Yes</td>\n",
       "      <td>7.0</td>\n",
       "      <td>No</td>\n",
       "    </tr>\n",
       "    <tr>\n",
       "      <th>16</th>\n",
       "      <td>Yes</td>\n",
       "      <td>6.0</td>\n",
       "      <td>No</td>\n",
       "    </tr>\n",
       "    <tr>\n",
       "      <th>35</th>\n",
       "      <td>Yes</td>\n",
       "      <td>5.0</td>\n",
       "      <td>No</td>\n",
       "    </tr>\n",
       "    <tr>\n",
       "      <th>37</th>\n",
       "      <td>Yes</td>\n",
       "      <td>NaN</td>\n",
       "      <td>NaN</td>\n",
       "    </tr>\n",
       "    <tr>\n",
       "      <th>...</th>\n",
       "      <td>...</td>\n",
       "      <td>...</td>\n",
       "      <td>...</td>\n",
       "    </tr>\n",
       "    <tr>\n",
       "      <th>12288</th>\n",
       "      <td>Yes</td>\n",
       "      <td>NaN</td>\n",
       "      <td>No</td>\n",
       "    </tr>\n",
       "    <tr>\n",
       "      <th>12298</th>\n",
       "      <td>Yes</td>\n",
       "      <td>8.0</td>\n",
       "      <td>No</td>\n",
       "    </tr>\n",
       "    <tr>\n",
       "      <th>12325</th>\n",
       "      <td>Yes</td>\n",
       "      <td>4.0</td>\n",
       "      <td>No</td>\n",
       "    </tr>\n",
       "    <tr>\n",
       "      <th>12328</th>\n",
       "      <td>Yes</td>\n",
       "      <td>4.0</td>\n",
       "      <td>No</td>\n",
       "    </tr>\n",
       "    <tr>\n",
       "      <th>12330</th>\n",
       "      <td>Yes</td>\n",
       "      <td>8.0</td>\n",
       "      <td>No</td>\n",
       "    </tr>\n",
       "  </tbody>\n",
       "</table>\n",
       "<p>1226 rows × 3 columns</p>\n",
       "</div>"
      ],
      "text/plain": [
       "      VETERAN3  INCOME2 BLIND\n",
       "0          Yes      8.0    No\n",
       "7          Yes      7.0    No\n",
       "16         Yes      6.0    No\n",
       "35         Yes      5.0    No\n",
       "37         Yes      NaN   NaN\n",
       "...        ...      ...   ...\n",
       "12288      Yes      NaN    No\n",
       "12298      Yes      8.0    No\n",
       "12325      Yes      4.0    No\n",
       "12328      Yes      4.0    No\n",
       "12330      Yes      8.0    No\n",
       "\n",
       "[1226 rows x 3 columns]"
      ]
     },
     "execution_count": 13,
     "metadata": {},
     "output_type": "execute_result"
    }
   ],
   "source": [
    "df"
   ]
  },
  {
   "cell_type": "code",
   "execution_count": 14,
   "id": "7722e71f",
   "metadata": {},
   "outputs": [],
   "source": [
    "df_blind = df.loc[df['BLIND'].isin(['Yes'])]\n",
    "df_not_blind = df.loc[df['BLIND'].isin(['No'])]\n"
   ]
  },
  {
   "cell_type": "code",
   "execution_count": 15,
   "id": "e19508f5",
   "metadata": {},
   "outputs": [],
   "source": [
    "import matplotlib.pyplot as plt\n",
    "%matplotlib inline"
   ]
  },
  {
   "cell_type": "code",
   "execution_count": 48,
   "id": "35644226",
   "metadata": {},
   "outputs": [
    {
     "data": {
      "image/png": "[encoded data removed]",
      "text/plain": [
       "<Figure size 432x288 with 1 Axes>"
      ]
     },
     "metadata": {
      "needs_background": "light"
     },
     "output_type": "display_data"
    },
    {
     "data": {
      "text/plain": [
       "(array([ 17.,  36.,  57.,  88., 126., 156., 204., 327.]),\n",
       " array([1.   , 1.875, 2.75 , 3.625, 4.5  , 5.375, 6.25 , 7.125, 8.   ]),\n",
       " <BarContainer object of 8 artists>)"
      ]
     },
     "execution_count": 48,
     "metadata": {},
     "output_type": "execute_result"
    },
    {
     "data": {
      "image/png": "[encoded data removed]",
      "text/plain": [
       "<Figure size 432x288 with 1 Axes>"
      ]
     },
     "metadata": {
      "needs_background": "light"
     },
     "output_type": "display_data"
    }
   ],
   "source": [
    "plt.hist(x = df_blind.INCOME2, bins = 8)\n",
    "plt.show()\n",
    "plt.hist(x = df_not_blind.INCOME2, bins = 8)"
   ]
  },
  {
   "cell_type": "code",
   "execution_count": 34,
   "id": "1155cba3",
   "metadata": {},
   "outputs": [
    {
     "data": {
      "text/plain": [
       "6.0"
      ]
     },
     "execution_count": 34,
     "metadata": {},
     "output_type": "execute_result"
    }
   ],
   "source": [
    "df_blind.INCOME2.mean() #25 - 35\n",
    "\n",
    "df_blind.INCOME2.mode()[0] #25 - 35"
   ]
  },
  {
   "cell_type": "code",
   "execution_count": 40,
   "id": "87e33e38",
   "metadata": {},
   "outputs": [
    {
     "data": {
      "text/plain": [
       "[6.0, 5.0, 3.0, 7.0, 1.0, 4.0, 8.0, 2.0]"
      ]
     },
     "execution_count": 40,
     "metadata": {},
     "output_type": "execute_result"
    }
   ],
   "source": [
    "df_blind.INCOME2.value_counts().index.tolist()"
   ]
  },
  {
   "cell_type": "code",
   "execution_count": 42,
   "id": "a5bb6087",
   "metadata": {},
   "outputs": [
    {
     "data": {
      "text/plain": [
       "Text(0.5, 0, 'Not Blind Income')"
      ]
     },
     "execution_count": 42,
     "metadata": {},
     "output_type": "execute_result"
    },
    {
     "data": {
      "image/png": "[encoded data removed]",
      "text/plain": [
       "<Figure size 432x288 with 1 Axes>"
      ]
     },
     "metadata": {
      "needs_background": "light"
     },
     "output_type": "display_data"
    }
   ],
   "source": [
    "#plt.plot(df_blind.INCOME2.value_counts(),df_not_blind.INCOME2.value_counts())\n",
    "\n",
    "from mpl_toolkits.mplot3d import Axes3D\n",
    "\n",
    "figure = plt.figure()\n",
    "axis = figure.add_subplot(111, projection = '3d')\n",
    "\n",
    "x = df_blind.INCOME2.value_counts().values\n",
    "y = df_not_blind.INCOME2.value_counts().values\n",
    "z = np.array([\n",
    "    np.array(df_blind.INCOME2.value_counts().index.tolist()).reshape(len(df_blind.INCOME2.value_counts().index.tolist())),\n",
    "    np.array(df_not_blind.INCOME2.value_counts().index.tolist()).reshape(len(df_not_blind.INCOME2.value_counts().index.tolist()))])\n",
    "\n",
    "axis.plot_wireframe(x, y, z)\n",
    "\n",
    "axis.set_xlabel('Blind Income')\n",
    "axis.set_ylabel('Count')\n",
    "axis.set_zlabel('Not Blind Income')\n"
   ]
  },
  {
   "cell_type": "code",
   "execution_count": 45,
   "id": "ef54570e",
   "metadata": {},
   "outputs": [
    {
     "data": {
      "image/png": "[encoded data removed]",
      "text/plain": [
       "<Figure size 432x288 with 1 Axes>"
      ]
     },
     "metadata": {
      "needs_background": "light"
     },
     "output_type": "display_data"
    }
   ],
   "source": [
    "from matplotlib import cm\n",
    "\n",
    "\n",
    "norm = plt.Normalize(z.min(), z.max())\n",
    "colors = cm.viridis(norm(z))\n",
    "rcount, ccount, _ = colors.shape\n",
    "\n",
    "fig = plt.figure()\n",
    "ax = fig.gca(projection='3d')\n",
    "surf = ax.plot_surface(x, y, z, rcount=rcount, ccount=ccount,\n",
    "                       facecolors=colors, shade=False)\n",
    "surf.set_facecolor((0,0,0,0))\n",
    "plt.show()"
   ]
  },
  {
   "cell_type": "code",
   "execution_count": 20,
   "id": "dfb9b6f0",
   "metadata": {
    "scrolled": true
   },
   "outputs": [],
   "source": [
    "\n"
   ]
  },
  {
   "cell_type": "code",
   "execution_count": null,
   "id": "e99b4598",
   "metadata": {},
   "outputs": [],
   "source": [
    "df.to_csv('CleanedFile.csv',index=False)\n"
   ]
  }
 ],
 "metadata": {
  "kernelspec": {
   "display_name": "Python 3",
   "language": "python",
   "name": "python3"
  },
  "language_info": {
   "codemirror_mode": {
    "name": "ipython",
    "version": 3
   },
   "file_extension": ".py",
   "mimetype": "text/x-python",
   "name": "python",
   "nbconvert_exporter": "python",
   "pygments_lexer": "ipython3",
   "version": "3.8.8"
  }
 },
 "nbformat": 4,
 "nbformat_minor": 5
}
