{
 "cells": [
  {
   "cell_type": "code",
   "execution_count": 2,
   "id": "85bff704",
   "metadata": {},
   "outputs": [
    {
     "name": "stderr",
     "output_type": "stream",
     "text": [
      "C:\\ProgramData\\Anaconda3\\lib\\site-packages\\IPython\\core\\interactiveshell.py:3165: DtypeWarning: Columns (183,378) have mixed types.Specify dtype option on import or set low_memory=False.\n",
      "  has_raised = await self.run_ast_nodes(code_ast.body, cell_name,\n"
     ]
    }
   ],
   "source": [
    "# Importing libraries\n",
    "import pandas as pd\n",
    "import numpy as np\n",
    "\n",
    "import time\n",
    "\n",
    "df = pd.read_csv('brfss_for_bda_2021.csv', skipinitialspace = True)"
   ]
  },
  {
   "cell_type": "code",
   "execution_count": 3,
   "id": "5522a6a5",
   "metadata": {},
   "outputs": [],
   "source": [
    "# Dropping useless columns\n",
    "\n",
    "df.drop(df.columns.difference(['EMPLOY1','_RFCHOL']), 1, inplace=True)"
   ]
  },
  {
   "cell_type": "code",
   "execution_count": 4,
   "id": "46505c62",
   "metadata": {},
   "outputs": [
    {
     "data": {
      "text/plain": [
       "Employed for wages                  5094\n",
       "Retired                             3393\n",
       "Self-employed                       1088\n",
       "Unable to work                       841\n",
       "A homemaker                          686\n",
       "A student                            386\n",
       "Out of work for 1 year or more       345\n",
       "Out of work for less than 1 year     326\n",
       "Refused                              179\n",
       "Name: EMPLOY1, dtype: int64"
      ]
     },
     "execution_count": 4,
     "metadata": {},
     "output_type": "execute_result"
    }
   ],
   "source": [
    "# Breakdown of column EMPLOY1\n",
    "df['EMPLOY1'].value_counts()"
   ]
  },
  {
   "cell_type": "code",
   "execution_count": 5,
   "id": "382b36b5",
   "metadata": {},
   "outputs": [
    {
     "data": {
      "text/plain": [
       "Employed for wages                  5094\n",
       "Retired                             3393\n",
       "Self-employed                       1088\n",
       "Unable to work                       841\n",
       "A homemaker                          686\n",
       "A student                            386\n",
       "Out of work for 1 year or more       345\n",
       "Out of work for less than 1 year     326\n",
       "Name: EMPLOY1, dtype: int64"
      ]
     },
     "execution_count": 5,
     "metadata": {},
     "output_type": "execute_result"
    }
   ],
   "source": [
    "# Cleaning EMPLOY1\n",
    "valid_set = set([\"Don't know/Not sure\", \"Refused\"])\n",
    "df.loc[df.EMPLOY1.isin(valid_set), 'EMPLOY1'] = np.NaN\n",
    "\n",
    "# Check that cleaned properly\n",
    "df['EMPLOY1'].value_counts()"
   ]
  },
  {
   "cell_type": "code",
   "execution_count": 6,
   "id": "ff905748",
   "metadata": {},
   "outputs": [
    {
     "data": {
      "text/plain": [
       "No                                        6367\n",
       "Yes                                       4396\n",
       "Missing                                   1487\n",
       "Don't know/Not Sure Or Refused/Missing      88\n",
       "Name: _RFCHOL, dtype: int64"
      ]
     },
     "execution_count": 6,
     "metadata": {},
     "output_type": "execute_result"
    }
   ],
   "source": [
    "# Breakdown of column _RFCHOL\n",
    "df['_RFCHOL'].value_counts()"
   ]
  },
  {
   "cell_type": "code",
   "execution_count": 7,
   "id": "a169ba5b",
   "metadata": {},
   "outputs": [
    {
     "data": {
      "text/plain": [
       "No     6367\n",
       "Yes    4396\n",
       "Name: _RFCHOL, dtype: int64"
      ]
     },
     "execution_count": 7,
     "metadata": {},
     "output_type": "execute_result"
    }
   ],
   "source": [
    "# Cleaning _RFCHOL\n",
    "valid_set = set([\"Don't know/Not Sure Or Refused/Missing\", \"Missing\"])\n",
    "df.loc[df._RFCHOL.isin(valid_set), '_RFCHOL'] = np.NaN\n",
    "\n",
    "# Check that cleaned properly\n",
    "df['_RFCHOL'].value_counts()"
   ]
  },
  {
   "cell_type": "code",
   "execution_count": 8,
   "id": "8fe86ea0",
   "metadata": {},
   "outputs": [
    {
     "data": {
      "text/plain": [
       "EMPLOY1     179\n",
       "_RFCHOL    1575\n",
       "dtype: int64"
      ]
     },
     "execution_count": 8,
     "metadata": {},
     "output_type": "execute_result"
    }
   ],
   "source": [
    "# Counting null cells\n",
    "\n",
    "df.isnull().sum()"
   ]
  },
  {
   "cell_type": "code",
   "execution_count": 9,
   "id": "3a66a619",
   "metadata": {},
   "outputs": [
    {
     "data": {
      "text/plain": [
       "EMPLOY1    0\n",
       "_RFCHOL    0\n",
       "dtype: int64"
      ]
     },
     "execution_count": 9,
     "metadata": {},
     "output_type": "execute_result"
    }
   ],
   "source": [
    "df.dropna(inplace = True)\n",
    "\n",
    "df.isnull().sum()"
   ]
  },
  {
   "cell_type": "code",
   "execution_count": 10,
   "id": "b4a4f9c6",
   "metadata": {},
   "outputs": [],
   "source": [
    "df.to_csv('RQ2 Cleaned.csv', index = False)"
   ]
  },
  {
   "cell_type": "code",
   "execution_count": null,
   "id": "06eb754c",
   "metadata": {},
   "outputs": [],
   "source": []
  }
 ],
 "metadata": {
  "kernelspec": {
   "display_name": "Python 3",
   "language": "python",
   "name": "python3"
  },
  "language_info": {
   "codemirror_mode": {
    "name": "ipython",
    "version": 3
   },
   "file_extension": ".py",
   "mimetype": "text/x-python",
   "name": "python",
   "nbconvert_exporter": "python",
   "pygments_lexer": "ipython3",
   "version": "3.8.8"
  }
 },
 "nbformat": 4,
 "nbformat_minor": 5
}
