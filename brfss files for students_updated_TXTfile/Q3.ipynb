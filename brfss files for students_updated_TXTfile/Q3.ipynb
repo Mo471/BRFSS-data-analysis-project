{
 "cells": [
  {
   "cell_type": "code",
   "execution_count": 16,
   "id": "85bff704",
   "metadata": {},
   "outputs": [],
   "source": [
    "# Importing libraries\n",
    "import pandas as pd\n",
    "import numpy as np\n",
    "\n",
    "import time\n",
    "\n",
    "df = pd.read_csv('brfss_for_bda_2021.csv', skipinitialspace = True)"
   ]
  },
  {
   "cell_type": "code",
   "execution_count": 17,
   "id": "5522a6a5",
   "metadata": {},
   "outputs": [],
   "source": [
    "# Dropping useless columns\n",
    "\n",
    "df.drop(df.columns.difference(['MENTHLTH','EXERANY2','INCOME2']), 1, inplace=True)"
   ]
  },
  {
   "cell_type": "code",
   "execution_count": 18,
   "id": "46505c62",
   "metadata": {},
   "outputs": [
    {
     "data": {
      "text/plain": [
       "None                   8012\n",
       "Number of days         4008\n",
       "Refused                 204\n",
       "Don't know/Not sure     114\n",
       "Name: MENTHLTH, dtype: int64"
      ]
     },
     "execution_count": 18,
     "metadata": {},
     "output_type": "execute_result"
    }
   ],
   "source": [
    "# Breakdown of column ADDEPEV2\n",
    "df['MENTHLTH'].value_counts()"
   ]
  },
  {
   "cell_type": "code",
   "execution_count": 19,
   "id": "382b36b5",
   "metadata": {},
   "outputs": [
    {
     "data": {
      "text/plain": [
       "None              8012\n",
       "Number of days    4008\n",
       "Name: MENTHLTH, dtype: int64"
      ]
     },
     "execution_count": 19,
     "metadata": {},
     "output_type": "execute_result"
    }
   ],
   "source": [
    "# Cleaning ADDEPEV2\n",
    "valid_set = set([\"Don't know/Not sure\", \"Refused\"])\n",
    "df.loc[df.MENTHLTH.isin(valid_set), 'MENTHLTH'] = np.NaN\n",
    "\n",
    "# Check that cleaned properly\n",
    "df['MENTHLTH'].value_counts()"
   ]
  },
  {
   "cell_type": "code",
   "execution_count": 20,
   "id": "ff905748",
   "metadata": {
    "scrolled": false
   },
   "outputs": [
    {
     "data": {
      "text/plain": [
       "Yes                     7837\n",
       "No                      3118\n",
       "Not asked or Missing    1347\n",
       "Refused                   25\n",
       "Don't know/Not Sure       11\n",
       "Name: EXERANY2, dtype: int64"
      ]
     },
     "execution_count": 20,
     "metadata": {},
     "output_type": "execute_result"
    }
   ],
   "source": [
    "# Breakdown of column EXERANY2\n",
    "df['EXERANY2'].value_counts()"
   ]
  },
  {
   "cell_type": "code",
   "execution_count": 21,
   "id": "a169ba5b",
   "metadata": {},
   "outputs": [
    {
     "data": {
      "text/plain": [
       "Yes    7837\n",
       "No     3118\n",
       "Name: EXERANY2, dtype: int64"
      ]
     },
     "execution_count": 21,
     "metadata": {},
     "output_type": "execute_result"
    }
   ],
   "source": [
    "# Cleaning EXERANY2\n",
    "valid_set = set([\"Not asked or Missing\", \"Refused\", \"Don't know/Not Sure\"])\n",
    "df.loc[df.EXERANY2.isin(valid_set), 'EXERANY2'] = np.NaN\n",
    "\n",
    "# Check that cleaned properly\n",
    "df['EXERANY2'].value_counts()"
   ]
  },
  {
   "cell_type": "code",
   "execution_count": 22,
   "id": "5a9aa9d4",
   "metadata": {},
   "outputs": [
    {
     "data": {
      "text/plain": [
       "$75,000 or more                                     3715\n",
       "Less than $75,000 ($50,000 to less than $75,000)    1557\n",
       "Less than $50,000 ($35,000 to less than $50,000)    1226\n",
       "Refused                                             1062\n",
       "Less than $35,000 ($25,000 to less than $35,000)    1009\n",
       "Less than $25,000 ($20,000 to less than $25,000)     870\n",
       "Less than $20,000 ($15,000 to less than $20,000)     842\n",
       "Don't know/Not sure                                  755\n",
       "Less than $10,000                                    575\n",
       "Less than $15,000 ($10,000 to less than $15,000)     547\n",
       "Not asked or Missing                                 180\n",
       "Name: INCOME2, dtype: int64"
      ]
     },
     "execution_count": 22,
     "metadata": {},
     "output_type": "execute_result"
    }
   ],
   "source": [
    "# Breakdown of column INCOME2\n",
    "df['INCOME2'].value_counts()"
   ]
  },
  {
   "cell_type": "code",
   "execution_count": 23,
   "id": "da2d9863",
   "metadata": {},
   "outputs": [
    {
     "data": {
      "text/plain": [
       "$75,000 or more                                     3715\n",
       "Less than $75,000 ($50,000 to less than $75,000)    1557\n",
       "Less than $50,000 ($35,000 to less than $50,000)    1226\n",
       "Less than $35,000 ($25,000 to less than $35,000)    1009\n",
       "Less than $25,000 ($20,000 to less than $25,000)     870\n",
       "Less than $20,000 ($15,000 to less than $20,000)     842\n",
       "Less than $10,000                                    575\n",
       "Less than $15,000 ($10,000 to less than $15,000)     547\n",
       "Name: INCOME2, dtype: int64"
      ]
     },
     "execution_count": 23,
     "metadata": {},
     "output_type": "execute_result"
    }
   ],
   "source": [
    "# Cleaning INCOME2\n",
    "valid_set = set([\"Not asked or Missing\", \"Don't know/Not sure\", \"Refused\"])\n",
    "df.loc[df.INCOME2.isin(valid_set), 'INCOME2'] = np.NaN\n",
    "\n",
    "# Check that cleaned properly\n",
    "df['INCOME2'].value_counts()"
   ]
  },
  {
   "cell_type": "code",
   "execution_count": 24,
   "id": "8fe86ea0",
   "metadata": {},
   "outputs": [
    {
     "data": {
      "text/plain": [
       "MENTHLTH     318\n",
       "INCOME2     1997\n",
       "EXERANY2    1383\n",
       "dtype: int64"
      ]
     },
     "execution_count": 24,
     "metadata": {},
     "output_type": "execute_result"
    }
   ],
   "source": [
    "# Counting null cells\n",
    "\n",
    "df.isnull().sum()"
   ]
  },
  {
   "cell_type": "code",
   "execution_count": 25,
   "id": "3a66a619",
   "metadata": {},
   "outputs": [
    {
     "data": {
      "text/plain": [
       "MENTHLTH    0\n",
       "INCOME2     0\n",
       "EXERANY2    0\n",
       "dtype: int64"
      ]
     },
     "execution_count": 25,
     "metadata": {},
     "output_type": "execute_result"
    }
   ],
   "source": [
    "df.dropna(inplace = True)\n",
    "\n",
    "df.isnull().sum()"
   ]
  },
  {
   "cell_type": "code",
   "execution_count": 28,
   "id": "b4a4f9c6",
   "metadata": {},
   "outputs": [],
   "source": [
    "df.to_csv('RQ3 Cleaned.csv', index = False)"
   ]
  },
  {
   "cell_type": "code",
   "execution_count": null,
   "id": "06eb754c",
   "metadata": {},
   "outputs": [],
   "source": []
  },
  {
   "cell_type": "code",
   "execution_count": 26,
   "id": "17d0a337",
   "metadata": {},
   "outputs": [
    {
     "data": {
      "text/plain": [
       "$75k+          3453\n",
       "$50k - $75k    1417\n",
       "$35k - $50k    1090\n",
       "$25k - $35k     880\n",
       "$20k - $25k     746\n",
       "$15k - $20k     724\n",
       "< $10k          481\n",
       "$10k - $15k     458\n",
       "Name: INCOME2, dtype: int64"
      ]
     },
     "execution_count": 26,
     "metadata": {},
     "output_type": "execute_result"
    }
   ],
   "source": [
    "# Additional mapping\n",
    "\n",
    "# Simplifying INCOME2\n",
    "mapping = {'$75,000 or more': '$75k+',\n",
    "           'Less than $75,000 ($50,000 to less than $75,000)': '$50k - $75k',\n",
    "           'Less than $50,000 ($35,000 to less than $50,000)': '$35k - $50k',\n",
    "           'Less than $35,000 ($25,000 to less than $35,000)': '$25k - $35k',\n",
    "           'Less than $25,000 ($20,000 to less than $25,000)': '$20k - $25k',\n",
    "           'Less than $20,000 ($15,000 to less than $20,000)': '$15k - $20k',\n",
    "           'Less than $15,000 ($10,000 to less than $15,000)': '$10k - $15k',\n",
    "           'Less than $10,000': '< $10k'}\n",
    "df.INCOME2 = df.INCOME2.map(mapping)\n",
    "\n",
    "df['INCOME2'].value_counts()"
   ]
  },
  {
   "cell_type": "code",
   "execution_count": null,
   "id": "d82f2db5",
   "metadata": {},
   "outputs": [],
   "source": []
  }
 ],
 "metadata": {
  "kernelspec": {
   "display_name": "Python 3",
   "language": "python",
   "name": "python3"
  },
  "language_info": {
   "codemirror_mode": {
    "name": "ipython",
    "version": 3
   },
   "file_extension": ".py",
   "mimetype": "text/x-python",
   "name": "python",
   "nbconvert_exporter": "python",
   "pygments_lexer": "ipython3",
   "version": "3.8.8"
  }
 },
 "nbformat": 4,
 "nbformat_minor": 5
}
